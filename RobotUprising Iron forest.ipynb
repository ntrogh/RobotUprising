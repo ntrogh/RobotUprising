{
  "cells": [
    {
      "metadata": {
        "collapsed": true
      },
      "cell_type": "markdown",
      "source": "To find the path we are using OpenCV to detect the poles, and then Pathfinding library to find a path in the gird. Since it's challeging for computer to detect a whole pole, we will concentrate on detecting the white tops, and then calculate the base from there. After we get the X,Y coordinates of the base of the poles we'll overlay a virtual grid on top of the image, and calcualte the position of the poles in that grid. We will then use the grid positions to block out the grid cells that the robot can't pass through and use that as an input for path finding. \n \n"
    },
    {
      "metadata": {
        "trusted": true
      },
      "cell_type": "code",
      "source": "#install open-cv\n#https://pypi.org/project/opencv-python/\n!pip install opencv-python",
      "execution_count": 5,
      "outputs": [
        {
          "output_type": "stream",
          "text": "Collecting opencv-python\n\u001b[?25l  Downloading https://files.pythonhosted.org/packages/5e/7e/bd5425f4dacb73367fddc71388a47c1ea570839197c2bcad86478e565186/opencv_python-4.1.1.26-cp36-cp36m-manylinux1_x86_64.whl (28.7MB)\n\u001b[K     |████████████████████████████████| 28.7MB 5.6kB/s eta 0:00:01     |████████████████▎               | 14.6MB 661kB/s eta 0:00:22     |████████████████████████        | 21.5MB 1.7MB/s eta 0:00:05████████████████████████▍     | 23.6MB 2.0MB/s eta 0:00:03████████████████████████▊     | 23.9MB 2.0MB/s eta 0:00:03��███████████████▌  | 26.4MB 3.3MB/s eta 0:00:01��███████████████████████████ | 27.8MB 138kB/s eta 0:00:07\n\u001b[?25hRequirement already satisfied: numpy>=1.11.3 in /home/nbuser/anaconda3_501/lib/python3.6/site-packages (from opencv-python) (1.16.2)\nInstalling collected packages: opencv-python\nSuccessfully installed opencv-python-4.1.1.26\n\u001b[33mWARNING: You are using pip version 19.2.2, however version 19.2.3 is available.\nYou should consider upgrading via the 'pip install --upgrade pip' command.\u001b[0m\n",
          "name": "stdout"
        }
      ]
    },
    {
      "metadata": {
        "trusted": true
      },
      "cell_type": "code",
      "source": "#install pathfinding\n#https://pypi.org/project/pathfinding/\n!pip install pathfinding",
      "execution_count": 6,
      "outputs": [
        {
          "output_type": "stream",
          "text": "Collecting pathfinding\n  Downloading https://files.pythonhosted.org/packages/5c/a0/8678ab2eb9c7e0eee1a7d3d47e136872f6ea0fc293838a2971ff5c7ecbf7/pathfinding-0.0.4-py3-none-any.whl\nInstalling collected packages: pathfinding\nSuccessfully installed pathfinding-0.0.4\n\u001b[33mWARNING: You are using pip version 19.2.2, however version 19.2.3 is available.\nYou should consider upgrading via the 'pip install --upgrade pip' command.\u001b[0m\n",
          "name": "stdout"
        }
      ]
    },
    {
      "metadata": {
        "trusted": true
      },
      "cell_type": "code",
      "source": "#OpenCV used for template matching\nimport cv2\n\nimport numpy as np\nimport math\n\n# Pathfinding algorithms based on Pathfinding.JS for python 2 and 3.\n# Using A*\n# https://pypi.org/project/pathfinding/\nfrom pathfinding.core.diagonal_movement import DiagonalMovement\nfrom pathfinding.core.grid import Grid\nfrom pathfinding.finder.a_star import AStarFinder\nfrom pathfinding.finder.best_first import BestFirst\nfrom pathfinding.finder.dijkstra import DijkstraFinder\nfrom pathfinding.finder.bi_a_star import BiAStarFinder\nfrom pathfinding.finder.ida_star import IDAStarFinder\nfrom pathfinding.finder.breadth_first import BreadthFirstFinder",
      "execution_count": 7,
      "outputs": []
    },
    {
      "metadata": {
        "trusted": true
      },
      "cell_type": "code",
      "source": "# Image to find the patterns/template in\nimg_rgb = cv2.imread('RobotUprising_still_high.png')",
      "execution_count": 8,
      "outputs": []
    },
    {
      "metadata": {
        "trusted": true
      },
      "cell_type": "code",
      "source": "def find_base_coordinates():\n    \n    #Change image to gray to ignore color differences in pattern matching\n    img_gray = cv2.cvtColor(img_rgb, cv2.COLOR_RGB2GRAY)\n\n    # Load the pole tip template image, with 0 color depth - gray scale image \n    template = cv2.imread('poletip3.png',0)\n    # Get width and the height of the template\n    w, h = template.shape[::-1]\n\n    # Use OpenCV to match the template in the original image\n    # This finds the occurrences of the template in the source image \n    res = cv2.matchTemplate(img_gray,template,cv2.TM_CCOEFF_NORMED)\n\n    # Matching precision threshold - higher means a more precise match\n    threshold = 0.85\n\n    # Retrieve the x and y positions of the the matched pole tips\n    xs1, ys1 = np.where( res >= threshold)\n\n    # Do a second pass of pattern matching with another template because not all objects were detected in first pass\n    # You can do multiple passes by different templates to increase the accuracy\n    # template = cv2.imread('poletip4.png',0)\n    # w, h = template.shape[::-1]\n    # res = cv2.matchTemplate(img_gray,template,method)\n    # threshold = 0.87\n    # xs2, ys2 = np.where( res >= threshold)\n\n    # If doing multiple passess, merge X and Y results\n    # top_coords = (np.concatenate([xs1, xs2]), np.concatenate([ys1, ys2]))\n    # otherwise just set xs1, xs2 into an tuple of arrays\n    top_coords = (xs1, ys1)\n    \n    # Array to store coordinates of the base of the poles\n    base_coords = []\n\n    # Loop over all matches\n    for pt_top in zip(*top_coords[::-1]):\n        \n        # Calculate the correction function\n        \n        # 100 = height of the pole at the top most point of the image minus the height of the lowest pole in the image (pole_heigh_delta)\n        # 1600 = distance in pixels between lowest and highest pole \n        # 1768 = Y coordinates of the camera (position where the base of the pole and the top of the pole are the same)\n        vertical_corr = int(100/1600 * (1768-pt_top[1]+170))\n        \n        # 40 = horizontal offset between the x position of the tip and x position of the base of the pole (e.g. if you draw a straight line from the top to the bottom of the pole, the number is the difference betwen these two lines)\n        # 600 = distance between x coordinates of the camera and horizontal top position of the left most pole \n        # 825 = X coordinates of the camera (position where the base of the pole and the top of the pole are the same)\n        horizontal_corr = int(40/600 * (825-pt_top[0]))\n\n        # Here we are assuming that the height of the poles are similar in length\n        \n        # Get the coordinates of the base of the pole\n        pt_base = (pt_top[0] + horizontal_corr, pt_top[1]+vertical_corr)\n\n        # Store the coordinate in an array\n        base_coords.append(pt_base)\n\n        # To validate results you can \n        # draw rectangle for the top of the pole\n        # cv2.rectangle(img_rgb, pt_top, (pt_top[0] + w, pt_top[1] + h), (0,0,255), 2)\n\n        # draw rectangle for the base of the pole\n        # cv2.rectangle(img_rgb, pt_base, (pt_base[0] + w, pt_base[1] + h + 0), (255,0,0), 2)\n\n    # write the results to an image\n    # cv2.imwrite(meth + '.png',img_rgb)\n\n    # save the coordinate to disk if needed\n    # np.save('base_coords', base_coords)\n\n    return base_coords",
      "execution_count": 14,
      "outputs": []
    },
    {
      "metadata": {
        "trusted": true
      },
      "cell_type": "code",
      "source": "# based on X and Y calculate a position in the grid where the blocking cell is\ndef get_blocking_cells(cell_size_x, cell_size_y, obstacle_coords):\n    \n    grid = []\n    for coord in obstacle_coords:\n        # translate x coord in cell-x\n        cell_x =  math.floor(coord[0] / cell_size_x)\n        # translate y coord in cell-y\n        cell_y =  math.floor(coord[1] / cell_size_y)\n\n        grid.append((cell_x, cell_y))\n    return grid\n",
      "execution_count": 10,
      "outputs": []
    },
    {
      "metadata": {
        "trusted": true
      },
      "cell_type": "code",
      "source": "# generate an overlay grid on top of the image\n# we are placing a straight square grid, while slightly cropping the image\n# the image could be rotated to compensate for the position of the camera\ndef generate_grids(blocking_cells, width, height, cell_size_x, cell_size_y):\n    grids = []\n    for x in range(0, math.floor(width / cell_size_x)+1):\n        row = []\n        for y in range(0, math.floor(height / cell_size_y)+1):\n            row .append(1)\n        grids.append(row)\n\n    for (x,y) in blocking_cells:\n        grids[x][y] = 0\n\n    return grids\n",
      "execution_count": 11,
      "outputs": []
    },
    {
      "metadata": {
        "trusted": true
      },
      "cell_type": "code",
      "source": "def find_path(matrix):\n    g = Grid(matrix=matrix)\n    start = g.node(1, 7)\n    end = g.node(15, 7)\n    finder = AStarFinder()\n    path, runs = finder.find_path(start, end, g)\n    print('operations:', runs, 'path length:', len(path))\n    print(g.grid_str(path=path, start=start, end=end))\n",
      "execution_count": 12,
      "outputs": []
    },
    {
      "metadata": {
        "trusted": true
      },
      "cell_type": "code",
      "source": "# the path is marked below with x, where s is the start of the path and e is the end of the path and # is position of the \n\nif __name__ == \"__main__\":\n    corordinates =  find_base_coordinates()\n    block_points = get_blocking_cells(100, 100, corordinates)\n    grids = generate_grids(block_points, 1768, 1532, 100, 100)\n    find_path(grids)\n    #print(grids)",
      "execution_count": 15,
      "outputs": [
        {
          "output_type": "stream",
          "text": "operations: 45 path length: 21\n+----------------+\n|         #      |\n|          #     |\n|    #           |\n|   #  ##        |\n|     ##     #   |\n|    #   ##      |\n|     #    #    #|\n| sx  #  #xxxxxxe|\n|  x## ##xx #  # |\n|  xxx#xxx ##    |\n|  # xxx#    #   |\n|  #   #  #    # |\n|    #   # ##    |\n|   #  #      #  |\n|     #          |\n|          #     |\n|                |\n|                |\n+----------------+\n",
          "name": "stdout"
        }
      ]
    },
    {
      "metadata": {
        "trusted": true
      },
      "cell_type": "code",
      "source": "",
      "execution_count": null,
      "outputs": []
    }
  ],
  "metadata": {
    "kernelspec": {
      "name": "python36",
      "display_name": "Python 3.6",
      "language": "python"
    },
    "language_info": {
      "mimetype": "text/x-python",
      "nbconvert_exporter": "python",
      "name": "python",
      "pygments_lexer": "ipython3",
      "version": "3.6.6",
      "file_extension": ".py",
      "codemirror_mode": {
        "version": 3,
        "name": "ipython"
      }
    }
  },
  "nbformat": 4,
  "nbformat_minor": 2
}